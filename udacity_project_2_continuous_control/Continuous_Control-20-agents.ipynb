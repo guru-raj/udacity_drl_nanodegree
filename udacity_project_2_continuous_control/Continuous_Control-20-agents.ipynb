{
 "cells": [
  {
   "cell_type": "markdown",
   "metadata": {},
   "source": [
    "# Continuous Control\n",
    "\n",
    "---\n",
    "\n",
    "You are welcome to use this coding environment to train your agent for the project.  Follow the instructions below to get started!\n",
    "\n",
    "### 1. Start the Environment\n",
    "\n",
    "Run the next code cell to install a few packages.  This line will take a few minutes to run!"
   ]
  },
  {
   "cell_type": "code",
   "execution_count": 1,
   "metadata": {},
   "outputs": [
    {
     "name": "stdout",
     "output_type": "stream",
     "text": [
      "\u001b[31mtensorflow 1.7.1 has requirement numpy>=1.13.3, but you'll have numpy 1.12.1 which is incompatible.\u001b[0m\r\n",
      "\u001b[31mipython 6.5.0 has requirement prompt-toolkit<2.0.0,>=1.0.15, but you'll have prompt-toolkit 3.0.20 which is incompatible.\u001b[0m\r\n"
     ]
    }
   ],
   "source": [
    "!pip -q install ./python"
   ]
  },
  {
   "cell_type": "markdown",
   "metadata": {},
   "source": [
    "The environments corresponding to both versions of the environment are already saved in the Workspace and can be accessed at the file paths provided below.  \n",
    "\n",
    "Please select one of the two options below for loading the environment."
   ]
  },
  {
   "cell_type": "code",
   "execution_count": 2,
   "metadata": {},
   "outputs": [
    {
     "name": "stderr",
     "output_type": "stream",
     "text": [
      "INFO:unityagents:\n",
      "'Academy' started successfully!\n",
      "Unity Academy name: Academy\n",
      "        Number of Brains: 1\n",
      "        Number of External Brains : 1\n",
      "        Lesson number : 0\n",
      "        Reset Parameters :\n",
      "\t\tgoal_speed -> 1.0\n",
      "\t\tgoal_size -> 5.0\n",
      "Unity brain name: ReacherBrain\n",
      "        Number of Visual Observations (per agent): 0\n",
      "        Vector Observation space type: continuous\n",
      "        Vector Observation space size (per agent): 33\n",
      "        Number of stacked Vector Observation: 1\n",
      "        Vector Action space type: continuous\n",
      "        Vector Action space size (per agent): 4\n",
      "        Vector Action descriptions: , , , \n"
     ]
    }
   ],
   "source": [
    "from unityagents import UnityEnvironment\n",
    "import numpy as np\n",
    "\n",
    "# select this option to load version 1 (with a single agent) of the environment\n",
    "# env = UnityEnvironment(file_name='/data/Reacher_One_Linux_NoVis/Reacher_One_Linux_NoVis.x86_64')\n",
    "\n",
    "# select this option to load version 2 (with 20 agents) of the environment\n",
    "env = UnityEnvironment(file_name='/data/Reacher_Linux_NoVis/Reacher.x86_64')"
   ]
  },
  {
   "cell_type": "markdown",
   "metadata": {},
   "source": [
    "Environments contain **_brains_** which are responsible for deciding the actions of their associated agents. Here we check for the first brain available, and set it as the default brain we will be controlling from Python."
   ]
  },
  {
   "cell_type": "code",
   "execution_count": 3,
   "metadata": {},
   "outputs": [],
   "source": [
    "# get the default brain\n",
    "brain_name = env.brain_names[0]\n",
    "brain = env.brains[brain_name]"
   ]
  },
  {
   "cell_type": "markdown",
   "metadata": {},
   "source": [
    "### 2. Examine the State and Action Spaces\n",
    "\n",
    "Run the code cell below to print some information about the environment."
   ]
  },
  {
   "cell_type": "code",
   "execution_count": 4,
   "metadata": {},
   "outputs": [
    {
     "name": "stdout",
     "output_type": "stream",
     "text": [
      "Number of agents: 20\n",
      "Size of each action: 4\n",
      "There are 20 agents. Each observes a state with length: 33\n",
      "The state for the first agent looks like: [  0.00000000e+00  -4.00000000e+00   0.00000000e+00   1.00000000e+00\n",
      "  -0.00000000e+00  -0.00000000e+00  -4.37113883e-08   0.00000000e+00\n",
      "   0.00000000e+00   0.00000000e+00   0.00000000e+00   0.00000000e+00\n",
      "   0.00000000e+00   0.00000000e+00  -1.00000000e+01   0.00000000e+00\n",
      "   1.00000000e+00  -0.00000000e+00  -0.00000000e+00  -4.37113883e-08\n",
      "   0.00000000e+00   0.00000000e+00   0.00000000e+00   0.00000000e+00\n",
      "   0.00000000e+00   0.00000000e+00   5.75471878e+00  -1.00000000e+00\n",
      "   5.55726624e+00   0.00000000e+00   1.00000000e+00   0.00000000e+00\n",
      "  -1.68164849e-01]\n"
     ]
    }
   ],
   "source": [
    "# reset the environment\n",
    "env_info = env.reset(train_mode=True)[brain_name]\n",
    "\n",
    "# number of agents\n",
    "num_agents = len(env_info.agents)\n",
    "print('Number of agents:', num_agents)\n",
    "\n",
    "# size of each action\n",
    "action_size = brain.vector_action_space_size\n",
    "print('Size of each action:', action_size)\n",
    "\n",
    "# examine the state space \n",
    "states = env_info.vector_observations\n",
    "state_size = states.shape[1]\n",
    "print('There are {} agents. Each observes a state with length: {}'.format(states.shape[0], state_size))\n",
    "print('The state for the first agent looks like:', states[0])"
   ]
  },
  {
   "cell_type": "markdown",
   "metadata": {},
   "source": [
    "### 3. Take Random Actions in the Environment\n",
    "\n",
    "In the next code cell, you will learn how to use the Python API to control the agent and receive feedback from the environment.\n",
    "\n",
    "Note that **in this coding environment, you will not be able to watch the agents while they are training**, and you should set `train_mode=True` to restart the environment."
   ]
  },
  {
   "cell_type": "code",
   "execution_count": 5,
   "metadata": {},
   "outputs": [
    {
     "name": "stdout",
     "output_type": "stream",
     "text": [
      "Total score (averaged over agents) this episode: 0.1514999966137111\n"
     ]
    }
   ],
   "source": [
    "env_info = env.reset(train_mode=True)[brain_name]      # reset the environment    \n",
    "states = env_info.vector_observations                  # get the current state (for each agent)\n",
    "scores = np.zeros(num_agents)                          # initialize the score (for each agent)\n",
    "while True:\n",
    "    actions = np.random.randn(num_agents, action_size) # select an action (for each agent)\n",
    "    actions = np.clip(actions, -1, 1)                  # all actions between -1 and 1\n",
    "    env_info = env.step(actions)[brain_name]           # send all actions to tne environment\n",
    "    next_states = env_info.vector_observations         # get next state (for each agent)\n",
    "    rewards = env_info.rewards                         # get reward (for each agent)\n",
    "    dones = env_info.local_done                        # see if episode finished\n",
    "    scores += env_info.rewards                         # update the score (for each agent)\n",
    "    states = next_states                               # roll over states to next time step\n",
    "    if np.any(dones):                                  # exit loop if episode finished\n",
    "        break\n",
    "print('Total score (averaged over agents) this episode: {}'.format(np.mean(scores)))"
   ]
  },
  {
   "cell_type": "markdown",
   "metadata": {},
   "source": [
    "When finished, you can close the environment."
   ]
  },
  {
   "cell_type": "markdown",
   "metadata": {},
   "source": [
    "### 4. It's Your Turn!\n",
    "\n",
    "Now it's your turn to train your own agent to solve the environment!  A few **important notes**:\n",
    "- When training the environment, set `train_mode=True`, so that the line for resetting the environment looks like the following:\n",
    "```python\n",
    "env_info = env.reset(train_mode=True)[brain_name]\n",
    "```\n",
    "- To structure your work, you're welcome to work directly in this Jupyter notebook, or you might like to start over with a new file!  You can see the list of files in the workspace by clicking on **_Jupyter_** in the top left corner of the notebook.\n",
    "- In this coding environment, you will not be able to watch the agents while they are training.  However, **_after training the agents_**, you can download the saved model weights to watch the agents on your own machine! "
   ]
  },
  {
   "cell_type": "code",
   "execution_count": 6,
   "metadata": {},
   "outputs": [],
   "source": [
    "import random\n",
    "import time\n",
    "import torch\n",
    "from ddpg_agent import Agent\n",
    "from collections import deque\n",
    "import matplotlib.pyplot as plt\n",
    "from workspace_utils import active_session\n",
    "\n",
    "%matplotlib inline"
   ]
  },
  {
   "cell_type": "code",
   "execution_count": 7,
   "metadata": {},
   "outputs": [],
   "source": [
    "## DDPG"
   ]
  },
  {
   "cell_type": "code",
   "execution_count": 8,
   "metadata": {},
   "outputs": [],
   "source": [
    "def ddpg(n_episodes=2000, max_t=1000, solved_score=30, consec_episodes=100, print_every=1, train_mode=True,\n",
    "         actor_path='actor_checkpoint_20_agents.pth', critic_path='critic_checkpoint_20_agents.pth'):\n",
    "    \"\"\"Deep Deterministic Policy Gradient (DDPG)\n",
    "    Params\n",
    "    ======\n",
    "        n_episodes      : max training episodes\n",
    "        max_t           : max timesteps per episode\n",
    "        train_mode      : set environment to training mode(=True)\n",
    "        solved_score    : min avg score for consecutive episodes\n",
    "        consec_episodes : # of consecutive episodes for calculating score\n",
    "        print_every     : interval to display results\n",
    "        actor_path      : dir to store actor network weights\n",
    "        critic_path     : dir to store critic network weights\n",
    "\n",
    "    \"\"\"\n",
    "    mean_scores = []                               \n",
    "    moving_avgs = []                         \n",
    "    best_score = -np.inf\n",
    "    scores_window = deque(maxlen=consec_episodes)  # mean scores from most recent episodes\n",
    "    \n",
    "    \n",
    "    for i_episode in range(1, n_episodes+1):\n",
    "        env_info = env.reset(train_mode=train_mode)[brain_name] # reset the environment\n",
    "        states = env_info.vector_observations                   # get the current state from each agent      \n",
    "        scores = np.zeros(num_agents)                           # init score for each agent\n",
    "        agent.reset()\n",
    "        start_time = time.time()\n",
    "        for t in range(max_t):\n",
    "            actions = agent.act(states, add_noise=True)         # chose an action\n",
    "            env_info = env.step(actions)[brain_name]            # send actions to env\n",
    "            next_states = env_info.vector_observations          # fetch next state\n",
    "            rewards = env_info.rewards                          # fetch reward\n",
    "            dones = env_info.local_done                         # check if episode is complete\n",
    "            # learning step at defined interval\n",
    "            for state, action, reward, next_state, done in zip(states, actions, rewards, next_states, dones):\n",
    "                agent.step(state, action, reward, next_state, done, t)             \n",
    "            states = next_states\n",
    "            scores += rewards        \n",
    "            if np.any(dones):                                   # exit loop when episode ends\n",
    "                break\n",
    "\n",
    "        duration = time.time() - start_time    \n",
    "        mean_scores.append(np.mean(scores))\n",
    "        scores_window.append(mean_scores[-1])\n",
    "        moving_avgs.append(np.mean(scores_window))\n",
    "                \n",
    "        if i_episode % print_every == 0:\n",
    "            print('\\rEpisode # {} ({} sec)  -- \\tMean: {:.1f}\\tMoving Avg: {:.1f}'.format(\\\n",
    "                  i_episode, round(duration), mean_scores[-1], moving_avgs[-1]))\n",
    "        \n",
    "        if train_mode and mean_scores[-1] > best_score:\n",
    "            torch.save(agent.actor_local.state_dict(), actor_path)\n",
    "            torch.save(agent.critic_local.state_dict(), critic_path)\n",
    "                  \n",
    "        if moving_avgs[-1] >= solved_score and i_episode >= consec_episodes:\n",
    "            print('\\Environment SOLVED in {} episodes!\\tMoving Average ={:.1f} for the last {} set of episodes'.format(\\\n",
    "                                    i_episode-consec_episodes, moving_avgs[-1], consec_episodes))            \n",
    "            if train_mode:\n",
    "                torch.save(agent.actor_local.state_dict(), actor_path)\n",
    "                torch.save(agent.critic_local.state_dict(), critic_path)  \n",
    "            break\n",
    "            \n",
    "    return mean_scores, moving_avgs"
   ]
  },
  {
   "cell_type": "code",
   "execution_count": 9,
   "metadata": {},
   "outputs": [],
   "source": [
    "agent = Agent(state_size=state_size, action_size=action_size, random_seed=20)"
   ]
  },
  {
   "cell_type": "code",
   "execution_count": 10,
   "metadata": {},
   "outputs": [
    {
     "name": "stdout",
     "output_type": "stream",
     "text": [
      "Episode # 1 (116 sec)  -- \tMean: 1.0\tMoving Avg: 1.0\n",
      "Episode # 2 (120 sec)  -- \tMean: 1.5\tMoving Avg: 1.3\n",
      "Episode # 3 (121 sec)  -- \tMean: 2.0\tMoving Avg: 1.5\n",
      "Episode # 4 (121 sec)  -- \tMean: 2.4\tMoving Avg: 1.7\n",
      "Episode # 5 (123 sec)  -- \tMean: 2.3\tMoving Avg: 1.8\n",
      "Episode # 6 (123 sec)  -- \tMean: 2.6\tMoving Avg: 2.0\n",
      "Episode # 7 (124 sec)  -- \tMean: 4.3\tMoving Avg: 2.3\n",
      "Episode # 8 (123 sec)  -- \tMean: 3.2\tMoving Avg: 2.4\n",
      "Episode # 9 (124 sec)  -- \tMean: 5.1\tMoving Avg: 2.7\n",
      "Episode # 10 (127 sec)  -- \tMean: 6.4\tMoving Avg: 3.1\n",
      "Episode # 11 (126 sec)  -- \tMean: 6.8\tMoving Avg: 3.4\n",
      "Episode # 12 (129 sec)  -- \tMean: 8.2\tMoving Avg: 3.8\n",
      "Episode # 13 (131 sec)  -- \tMean: 9.3\tMoving Avg: 4.2\n",
      "Episode # 14 (129 sec)  -- \tMean: 8.8\tMoving Avg: 4.6\n",
      "Episode # 15 (129 sec)  -- \tMean: 9.1\tMoving Avg: 4.9\n",
      "Episode # 16 (132 sec)  -- \tMean: 9.8\tMoving Avg: 5.2\n",
      "Episode # 17 (132 sec)  -- \tMean: 10.3\tMoving Avg: 5.5\n",
      "Episode # 18 (134 sec)  -- \tMean: 11.9\tMoving Avg: 5.8\n",
      "Episode # 19 (139 sec)  -- \tMean: 12.1\tMoving Avg: 6.2\n",
      "Episode # 20 (140 sec)  -- \tMean: 14.2\tMoving Avg: 6.6\n",
      "Episode # 21 (142 sec)  -- \tMean: 12.6\tMoving Avg: 6.9\n",
      "Episode # 22 (144 sec)  -- \tMean: 14.1\tMoving Avg: 7.2\n",
      "Episode # 23 (146 sec)  -- \tMean: 14.5\tMoving Avg: 7.5\n",
      "Episode # 24 (150 sec)  -- \tMean: 14.7\tMoving Avg: 7.8\n",
      "Episode # 25 (151 sec)  -- \tMean: 15.3\tMoving Avg: 8.1\n",
      "Episode # 26 (154 sec)  -- \tMean: 16.2\tMoving Avg: 8.4\n",
      "Episode # 27 (157 sec)  -- \tMean: 16.7\tMoving Avg: 8.7\n",
      "Episode # 28 (160 sec)  -- \tMean: 17.9\tMoving Avg: 9.0\n",
      "Episode # 29 (161 sec)  -- \tMean: 16.5\tMoving Avg: 9.3\n",
      "Episode # 30 (163 sec)  -- \tMean: 18.8\tMoving Avg: 9.6\n",
      "Episode # 31 (167 sec)  -- \tMean: 21.9\tMoving Avg: 10.0\n",
      "Episode # 32 (168 sec)  -- \tMean: 21.3\tMoving Avg: 10.4\n",
      "Episode # 33 (172 sec)  -- \tMean: 21.8\tMoving Avg: 10.7\n",
      "Episode # 34 (172 sec)  -- \tMean: 24.9\tMoving Avg: 11.1\n",
      "Episode # 35 (175 sec)  -- \tMean: 23.2\tMoving Avg: 11.5\n",
      "Episode # 36 (178 sec)  -- \tMean: 24.4\tMoving Avg: 11.8\n",
      "Episode # 37 (180 sec)  -- \tMean: 26.2\tMoving Avg: 12.2\n",
      "Episode # 38 (186 sec)  -- \tMean: 24.6\tMoving Avg: 12.5\n",
      "Episode # 39 (187 sec)  -- \tMean: 25.9\tMoving Avg: 12.9\n",
      "Episode # 40 (188 sec)  -- \tMean: 26.5\tMoving Avg: 13.2\n",
      "Episode # 41 (190 sec)  -- \tMean: 29.3\tMoving Avg: 13.6\n",
      "Episode # 42 (198 sec)  -- \tMean: 31.4\tMoving Avg: 14.0\n",
      "Episode # 43 (197 sec)  -- \tMean: 29.7\tMoving Avg: 14.4\n",
      "Episode # 44 (198 sec)  -- \tMean: 33.0\tMoving Avg: 14.8\n",
      "Episode # 45 (201 sec)  -- \tMean: 32.9\tMoving Avg: 15.2\n",
      "Episode # 46 (205 sec)  -- \tMean: 32.7\tMoving Avg: 15.6\n",
      "Episode # 47 (206 sec)  -- \tMean: 33.3\tMoving Avg: 16.0\n",
      "Episode # 48 (209 sec)  -- \tMean: 34.0\tMoving Avg: 16.4\n",
      "Episode # 49 (211 sec)  -- \tMean: 33.8\tMoving Avg: 16.7\n",
      "Episode # 50 (214 sec)  -- \tMean: 33.7\tMoving Avg: 17.1\n",
      "Episode # 51 (215 sec)  -- \tMean: 34.6\tMoving Avg: 17.4\n",
      "Episode # 52 (215 sec)  -- \tMean: 34.3\tMoving Avg: 17.7\n",
      "Episode # 53 (216 sec)  -- \tMean: 33.9\tMoving Avg: 18.0\n",
      "Episode # 54 (217 sec)  -- \tMean: 34.2\tMoving Avg: 18.3\n",
      "Episode # 55 (216 sec)  -- \tMean: 34.6\tMoving Avg: 18.6\n",
      "Episode # 56 (216 sec)  -- \tMean: 35.6\tMoving Avg: 18.9\n",
      "Episode # 57 (216 sec)  -- \tMean: 35.2\tMoving Avg: 19.2\n",
      "Episode # 58 (215 sec)  -- \tMean: 36.8\tMoving Avg: 19.5\n",
      "Episode # 59 (214 sec)  -- \tMean: 37.0\tMoving Avg: 19.8\n",
      "Episode # 60 (218 sec)  -- \tMean: 37.3\tMoving Avg: 20.1\n",
      "Episode # 61 (221 sec)  -- \tMean: 37.9\tMoving Avg: 20.4\n",
      "Episode # 62 (218 sec)  -- \tMean: 38.2\tMoving Avg: 20.7\n",
      "Episode # 63 (219 sec)  -- \tMean: 37.8\tMoving Avg: 21.0\n",
      "Episode # 64 (220 sec)  -- \tMean: 38.9\tMoving Avg: 21.2\n",
      "Episode # 65 (222 sec)  -- \tMean: 38.7\tMoving Avg: 21.5\n",
      "Episode # 66 (219 sec)  -- \tMean: 38.9\tMoving Avg: 21.8\n",
      "Episode # 67 (218 sec)  -- \tMean: 38.9\tMoving Avg: 22.0\n",
      "Episode # 68 (216 sec)  -- \tMean: 39.0\tMoving Avg: 22.3\n",
      "Episode # 69 (213 sec)  -- \tMean: 38.4\tMoving Avg: 22.5\n",
      "Episode # 70 (215 sec)  -- \tMean: 39.0\tMoving Avg: 22.7\n",
      "Episode # 71 (214 sec)  -- \tMean: 38.6\tMoving Avg: 23.0\n",
      "Episode # 73 (214 sec)  -- \tMean: 38.8\tMoving Avg: 23.4\n",
      "Episode # 74 (216 sec)  -- \tMean: 39.0\tMoving Avg: 23.6\n",
      "Episode # 75 (216 sec)  -- \tMean: 39.0\tMoving Avg: 23.8\n",
      "Episode # 76 (217 sec)  -- \tMean: 39.0\tMoving Avg: 24.0\n",
      "Episode # 77 (218 sec)  -- \tMean: 38.9\tMoving Avg: 24.2\n",
      "Episode # 78 (217 sec)  -- \tMean: 38.8\tMoving Avg: 24.4\n",
      "Episode # 79 (214 sec)  -- \tMean: 38.9\tMoving Avg: 24.6\n",
      "Episode # 80 (214 sec)  -- \tMean: 38.9\tMoving Avg: 24.8\n",
      "Episode # 81 (214 sec)  -- \tMean: 38.8\tMoving Avg: 24.9\n",
      "Episode # 82 (215 sec)  -- \tMean: 38.5\tMoving Avg: 25.1\n",
      "Episode # 83 (216 sec)  -- \tMean: 37.8\tMoving Avg: 25.3\n",
      "Episode # 84 (218 sec)  -- \tMean: 38.6\tMoving Avg: 25.4\n",
      "Episode # 85 (215 sec)  -- \tMean: 38.2\tMoving Avg: 25.6\n",
      "Episode # 86 (215 sec)  -- \tMean: 38.9\tMoving Avg: 25.7\n",
      "Episode # 87 (214 sec)  -- \tMean: 38.7\tMoving Avg: 25.9\n",
      "Episode # 88 (216 sec)  -- \tMean: 37.6\tMoving Avg: 26.0\n",
      "Episode # 89 (218 sec)  -- \tMean: 37.8\tMoving Avg: 26.1\n",
      "Episode # 90 (217 sec)  -- \tMean: 39.1\tMoving Avg: 26.3\n",
      "Episode # 91 (219 sec)  -- \tMean: 38.3\tMoving Avg: 26.4\n",
      "Episode # 92 (218 sec)  -- \tMean: 38.7\tMoving Avg: 26.5\n",
      "Episode # 93 (219 sec)  -- \tMean: 39.0\tMoving Avg: 26.7\n",
      "Episode # 94 (218 sec)  -- \tMean: 38.5\tMoving Avg: 26.8\n",
      "Episode # 95 (219 sec)  -- \tMean: 38.5\tMoving Avg: 26.9\n",
      "Episode # 96 (220 sec)  -- \tMean: 37.7\tMoving Avg: 27.0\n",
      "Episode # 97 (218 sec)  -- \tMean: 38.5\tMoving Avg: 27.2\n",
      "Episode # 98 (218 sec)  -- \tMean: 38.6\tMoving Avg: 27.3\n",
      "Episode # 99 (219 sec)  -- \tMean: 38.6\tMoving Avg: 27.4\n",
      "Episode # 100 (218 sec)  -- \tMean: 39.1\tMoving Avg: 27.5\n",
      "Episode # 101 (218 sec)  -- \tMean: 38.7\tMoving Avg: 27.9\n",
      "Episode # 102 (219 sec)  -- \tMean: 38.7\tMoving Avg: 28.3\n",
      "Episode # 103 (218 sec)  -- \tMean: 38.7\tMoving Avg: 28.6\n",
      "Episode # 104 (219 sec)  -- \tMean: 38.4\tMoving Avg: 29.0\n",
      "Episode # 105 (218 sec)  -- \tMean: 37.1\tMoving Avg: 29.3\n",
      "Episode # 106 (218 sec)  -- \tMean: 38.4\tMoving Avg: 29.7\n",
      "Episode # 107 (219 sec)  -- \tMean: 38.8\tMoving Avg: 30.0\n",
      "\\Environment SOLVED in 7 episodes!\tMoving Average =30.0 for the last 100 set of episodes\n"
     ]
    }
   ],
   "source": [
    "with active_session():\n",
    "    scores, avgs = ddpg()"
   ]
  },
  {
   "cell_type": "code",
   "execution_count": 11,
   "metadata": {},
   "outputs": [
    {
     "data": {
      "image/png": "[encoded data removed]",
      "text/plain": [
       "<matplotlib.figure.Figure at 0x7fe258bdfa58>"
      ]
     },
     "metadata": {
      "needs_background": "light"
     },
     "output_type": "display_data"
    }
   ],
   "source": [
    "fig = plt.figure()\n",
    "ax = fig.add_subplot(111)\n",
    "plt.plot(np.arange(len(scores)), scores, label='DDPG')\n",
    "plt.plot(np.arange(len(scores)), avgs, c='g', label='Moving AVG')\n",
    "plt.ylabel('Score Value')\n",
    "plt.xlabel('Episode Number')\n",
    "plt.legend(loc='upper left');\n",
    "plt.show()"
   ]
  },
  {
   "cell_type": "code",
   "execution_count": 12,
   "metadata": {},
   "outputs": [],
   "source": [
    "env.close()"
   ]
  },
  {
   "cell_type": "code",
   "execution_count": null,
   "metadata": {},
   "outputs": [],
   "source": []
  }
 ],
 "metadata": {
  "kernelspec": {
   "display_name": "Python 3",
   "language": "python",
   "name": "python3"
  },
  "language_info": {
   "codemirror_mode": {
    "name": "ipython",
    "version": 3
   },
   "file_extension": ".py",
   "mimetype": "text/x-python",
   "name": "python",
   "nbconvert_exporter": "python",
   "pygments_lexer": "ipython3",
   "version": "3.6.3"
  }
 },
 "nbformat": 4,
 "nbformat_minor": 2
}
